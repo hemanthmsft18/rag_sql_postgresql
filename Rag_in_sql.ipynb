{
 "cells": [
  {
   "cell_type": "markdown",
   "id": "f1167980",
   "metadata": {},
   "source": [
    "# Project: RAG with Azure SQL DB and Azure PostgreSQL\n",
    "\n",
    "## 🔍 Objective\n",
    "\n",
    "Demonstrate **Retrieval-Augmented Generation (RAG)** using:\n",
    "- **Azure SQL Database**\n",
    "- **Azure Database for PostgreSQL**\n",
    "- **Azure OpenAI** embedding models\n",
    "\n",
    "The project covers:\n",
    "- Connecting to Azure OpenAI to generate embeddings using `text-embedding-3-small`\n",
    "- Storing and indexing embeddings in Azure SQL and PostgreSQL\n",
    "- Performing **semantic similarity search** to retrieve contextually relevant data\n",
    "- Using this retrieved data for RAG-based responses"
   ]
  },
  {
   "cell_type": "markdown",
   "id": "05c3156a",
   "metadata": {},
   "source": [
    "## Creating a SQL Server Database Credential\n",
    "\n",
    "- The credential will save the Azure Open AI connection and the key to connect to the Embedding models hosted"
   ]
  },
  {
   "cell_type": "code",
   "execution_count": null,
   "id": "9207e31f",
   "metadata": {
    "vscode": {
     "languageId": "sql"
    }
   },
   "outputs": [],
   "source": [
    "\n",
    "if not exists(select * from sys.symmetric_keys where [name] = '##MS_DatabaseMasterKey##')\n",
    "begin\n",
    "    create master key encryption by password = N'V3RYStr0NGP@ssw0rd!';\n",
    "end\n",
    "go\n",
    "if exists(select * from sys.[database_scoped_credentials] where name = 'https://hemanthazureai.openai.azure.com')\n",
    "begin\n",
    "\tdrop database scoped credential [https://hemanthazureaiopenai.azure.com];\n",
    "end\n",
    "create database scoped credential [https://hemanthazureai.openai.azure.com]\n",
    "with identity = 'HTTPEndpointHeaders', secret = '{\"api-key\": \"<Key\"}';\n",
    "go"
   ]
  },
  {
   "cell_type": "markdown",
   "id": "eff18e04",
   "metadata": {},
   "source": [
    "## Creating a stored procedure to get_embedding \n",
    "\n",
    "- The stored procedure will connect to the https://hemanthazureai.openai.azure.com using the above created credential and will use the embedding model;\n",
    "- for this project I am going to use the text-embedding-3-small model"
   ]
  },
  {
   "cell_type": "code",
   "execution_count": null,
   "id": "a6d2c961",
   "metadata": {
    "vscode": {
     "languageId": "sql"
    }
   },
   "outputs": [],
   "source": [
    "\n",
    "create or alter procedure dbo.get_embedding\n",
    "@deployedModelName nvarchar(1000),\n",
    "@inputText nvarchar(max),\n",
    "@embedding vector(1536) output\n",
    "as\n",
    "declare @retval int, @response nvarchar(max);\n",
    "declare @payload nvarchar(max) = json_object('input': @inputText);\n",
    "declare @url nvarchar(1000) = 'https://hemanthazureai.openai.azure.com/openai/deployments/' + @deployedModelName + '/embeddings?api-version=2023-03-15-preview'\n",
    "exec @retval = sp_invoke_external_rest_endpoint\n",
    "    @url = @url,\n",
    "    @method = 'POST',\n",
    "    @credential = [https://hemanthazureai.openai.azure.com],\n",
    "    @payload = @payload,\n",
    "    @response = @response output;\n",
    "\n",
    "declare @re vector(1536);\n",
    "if (@retval = 0) begin\n",
    "    set @re = cast(json_query(@response, '$.result.data[0].embedding') as vector(1536))\n",
    "end else begin\n",
    "    declare @msg nvarchar(max) =  \n",
    "        'Error calling OpenAI API' + char(13) + char(10) + \n",
    "        '[HTTP Status: ' + json_value(@response, '$.response.status.http.code') + '] ' +\n",
    "        json_value(@response, '$.result.error.message');\n",
    "    throw 50000, @msg, 1;\n",
    "end\n",
    "\n",
    "set @embedding = @re;\n",
    "\n",
    "return @retval\n",
    "go"
   ]
  }
 ],
 "metadata": {
  "kernelspec": {
   "display_name": "Python 3",
   "language": "python",
   "name": "python3"
  },
  "language_info": {
   "codemirror_mode": {
    "name": "ipython",
    "version": 3
   },
   "file_extension": ".py",
   "mimetype": "text/x-python",
   "name": "python",
   "nbconvert_exporter": "python",
   "pygments_lexer": "ipython3",
   "version": "3.13.3"
  }
 },
 "nbformat": 4,
 "nbformat_minor": 5
}

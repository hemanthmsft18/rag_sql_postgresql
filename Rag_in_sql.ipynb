{
 "cells": [
  {
   "cell_type": "markdown",
   "id": "f1167980",
   "metadata": {},
   "source": [
    "# Project: RAG with Azure SQL DB and Azure PostgreSQL\n",
    "\n",
    "## 🔍 Objective\n",
    "\n",
    "Demonstrate **Retrieval-Augmented Generation (RAG)** using:\n",
    "- **Azure SQL Database**\n",
    "- **Azure Database for PostgreSQL**\n",
    "- **Azure OpenAI** embedding models\n",
    "\n",
    "The project covers:\n",
    "- Connecting to Azure OpenAI to generate embeddings using `text-embedding-3-small`\n",
    "- Storing and indexing embeddings in Azure SQL and PostgreSQL\n",
    "- Performing **semantic similarity search** to retrieve contextually relevant data\n",
    "- Using this retrieved data for RAG-based responses"
   ]
  },
  {
   "cell_type": "markdown",
   "id": "05c3156a",
   "metadata": {},
   "source": [
    "## Creating a SQL Server Database Credential\n",
    "\n",
    "- The credential will save the Azure Open AI connection and the key to connect to the Embedding models hosted"
   ]
  },
  {
   "cell_type": "code",
   "execution_count": null,
   "id": "9207e31f",
   "metadata": {
    "vscode": {
     "languageId": "sql"
    }
   },
   "outputs": [
    {
     "ename": "IndentationError",
     "evalue": "unexpected indent (4090788164.py, line 2)",
     "output_type": "error",
     "traceback": [
      "  \u001b[36mCell\u001b[39m\u001b[36m \u001b[39m\u001b[32mIn[1]\u001b[39m\u001b[32m, line 2\u001b[39m\n\u001b[31m    \u001b[39m\u001b[31mCreate database credentials to store API key\u001b[39m\n    ^\n\u001b[31mIndentationError\u001b[39m\u001b[31m:\u001b[39m unexpected indent\n"
     ]
    }
   ],
   "source": [
    "/*\n",
    "    Create database credentials to store API key\n",
    "\n",
    "    Replace <your-api-name> with the name of your Azure OpenAI service and <api-key> with the API key for the Azure OpenAI API\n",
    "*/\n",
    "if not exists(select * from sys.symmetric_keys where [name] = '##MS_DatabaseMasterKey##')\n",
    "begin\n",
    "    create master key encryption by password = N'V3RYStr0NGP@ssw0rd!';\n",
    "end\n",
    "go\n",
    "if exists(select * from sys.[database_scoped_credentials] where name = 'https://<your-api-name>.openai.azure.com')\n",
    "begin\n",
    "\tdrop database scoped credential [https://<your-api-name>.openai.azure.com];\n",
    "end\n",
    "create database scoped credential [https://<your-api-name>.openai.azure.com]\n",
    "with identity = 'HTTPEndpointHeaders', secret = '{\"api-key\": \"<api-key>\"}';\n",
    "go"
   ]
  }
 ],
 "metadata": {
  "kernelspec": {
   "display_name": "Python 3",
   "language": "python",
   "name": "python3"
  },
  "language_info": {
   "codemirror_mode": {
    "name": "ipython",
    "version": 3
   },
   "file_extension": ".py",
   "mimetype": "text/x-python",
   "name": "python",
   "nbconvert_exporter": "python",
   "pygments_lexer": "ipython3",
   "version": "3.13.3"
  }
 },
 "nbformat": 4,
 "nbformat_minor": 5
}

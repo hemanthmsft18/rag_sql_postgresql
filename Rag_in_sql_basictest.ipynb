{
 "cells": [
  {
   "cell_type": "markdown",
   "id": "f66b4f82",
   "metadata": {},
   "source": [
    "## 🔍 What is Cosine Similarity?\n",
    "\n",
    "Cosine similarity is a metric used to measure how similar two vectors are, regardless of their magnitude. It calculates the cosine of the angle between two vectors in a multi-dimensional space.\n",
    "\n",
    "### 🧮 Formula:\n",
    "cos(θ) = (A · B) / (||A|| * ||B||)\n",
    "\n",
    "Where:\n",
    "- A · B is the dot product of vectors A and B\n",
    "- ||A|| and ||B|| are the magnitudes (norms) of vectors A and B\n",
    "\n",
    "### 📌 Why Use Cosine Similarity?\n",
    "- It focuses on **direction**, not magnitude.\n",
    "- Ideal for comparing **text embeddings** or **semantic vectors**.\n",
    "- Values range from:\n",
    "  - **1** → identical direction (very similar)\n",
    "  - **0** → orthogonal (no similarity)\n",
    "  - **-1** → opposite direction (very dissimilar)\n",
    "\n",
    "### 🧪 In This Query:\n",
    "You are comparing the semantic similarity between three concepts:\n",
    "- `@vector1` (e.g., \"King\")\n",
    "- `@vector2` (e.g., \"Queen\")\n",
    "- `@vector3` (e.g., \"Pizza\")\n",
    "\n",
    "Using:\n",
    "```sql\n",
    "SELECT\n",
    "    vector_distance('cosine', @vector1, @vector1) AS 'Vector1 vs Vector1',\n",
    "    vector_distance('cosine', @vector1, @vector2) AS 'Vector1 vs Vector2',\n",
    "    vector_distance('cosine', @vector1, @vector3) AS 'Vector1 vs Vector3';\n"
   ]
  },
  {
   "cell_type": "code",
   "execution_count": null,
   "id": "85f81bc8",
   "metadata": {
    "vscode": {
     "languageId": "sql"
    }
   },
   "outputs": [
    {
     "ename": "IndentationError",
     "evalue": "unexpected indent (2116462070.py, line 4)",
     "output_type": "error",
     "traceback": [
      "  \u001b[36mCell\u001b[39m\u001b[36m \u001b[39m\u001b[32mIn[8]\u001b[39m\u001b[32m, line 4\u001b[39m\n\u001b[31m    \u001b[39m\u001b[31mStep 1: Declare vector variables to hold embeddings\u001b[39m\n    ^\n\u001b[31mIndentationError\u001b[39m\u001b[31m:\u001b[39m unexpected indent\n"
     ]
    }
   ],
   "source": [
    "\n",
    "/*\n",
    "    Step 1: Declare vector variables to hold embeddings\n",
    "    These vectors are 1536-dimensional, suitable for OpenAI embeddings\n",
    "*/\n",
    "DECLARE @vector1 vector(1536), \n",
    "        @vector2 vector(1536), \n",
    "        @vector3 vector(1536);\n",
    "\n",
    "\n",
    "/*\n",
    "    Step 2: Call the OpenAI embedding API via a stored procedure\n",
    "    Each call retrieves the embedding for a specific input text and stores it in the corresponding vector variable\n",
    "*/\n",
    "EXEC dbo.get_embedding \n",
    "    @deployedModelName = 'text-embedding-3-small', \n",
    "    @inputText = 'King', \n",
    "    @embedding = @vector1 OUTPUT;\n",
    "\n",
    "EXEC dbo.get_embedding \n",
    "    @deployedModelName = 'text-embedding-3-small', \n",
    "    @inputText = 'Queen', \n",
    "    @embedding = @vector2 OUTPUT;\n",
    "\n",
    "EXEC dbo.get_embedding \n",
    "    @deployedModelName = 'text-embedding-3-small', \n",
    "    @inputText = 'Pizza', \n",
    "    @embedding = @vector3 OUTPUT;\n",
    "\n",
    "/*\n",
    "    Step 3: Compute cosine distances between the vectors\n",
    "    This helps measure semantic similarity between the input concepts\n",
    "    Lower distance = higher similarity\n",
    "*/\n",
    "SELECT\n",
    "    vector_distance('cosine', @vector1, @vector1) AS 'Vector1 vs Vector1',\n",
    "    vector_distance('cosine', @vector1, @vector2) AS 'Vector1 vs Vector2',\n",
    "    vector_distance('cosine', @vector1, @vector3) AS 'Vector1 vs Vector3';\n"
   ]
  }
 ],
 "metadata": {
  "kernelspec": {
   "display_name": "Python 3",
   "language": "python",
   "name": "python3"
  },
  "language_info": {
   "codemirror_mode": {
    "name": "ipython",
    "version": 3
   },
   "file_extension": ".py",
   "mimetype": "text/x-python",
   "name": "python",
   "nbconvert_exporter": "python",
   "pygments_lexer": "ipython3",
   "version": "3.13.3"
  }
 },
 "nbformat": 4,
 "nbformat_minor": 5
}
